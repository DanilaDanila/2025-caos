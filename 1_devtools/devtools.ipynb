{
 "cells": [
  {
   "cell_type": "code",
   "execution_count": 3,
   "id": "cd803135-1d6d-4670-88a3-912b2fde8d57",
   "metadata": {
    "editable": true,
    "slideshow": {
     "slide_type": "skip"
    },
    "tags": []
   },
   "outputs": [
    {
     "name": "stdout",
     "output_type": "stream",
     "text": [
      "[NbConvertApp] Converting notebook devtools.ipynb to slides\n",
      "[NbConvertApp] WARNING | Alternative text is missing on 1 image(s).\n",
      "[NbConvertApp] Writing 351382 bytes to devtools.slides.html\n",
      "[NbConvertApp] Redirecting reveal.js requests to https://cdnjs.cloudflare.com/ajax/libs/reveal.js/3.5.0\n",
      "Serving your slides at http://127.0.0.1:8000/devtools.slides.html\n",
      "Use Control-C to stop this server\n",
      "404 GET /favicon.ico (127.0.0.1) 0.55ms\n",
      "^C\n",
      "\n",
      "Interrupted\n"
     ]
    }
   ],
   "source": [
    "!jupyter nbconvert devtools.ipynb --to slides --post serve"
   ]
  },
  {
   "cell_type": "markdown",
   "id": "b1769f08-289d-4393-90eb-0bf51c27372c",
   "metadata": {
    "editable": true,
    "slideshow": {
     "slide_type": "slide"
    },
    "tags": []
   },
   "source": [
    "# Базовые инструменты разработки"
   ]
  },
  {
   "cell_type": "markdown",
   "id": "90324c52-2800-4bdd-8531-ad95c323c6df",
   "metadata": {
    "editable": true,
    "slideshow": {
     "slide_type": "subslide"
    },
    "tags": []
   },
   "source": [
    "# ~~Базовые инструменты разработки~~\n",
    "# whoami"
   ]
  },
  {
   "cell_type": "markdown",
   "id": "ce9088d7-6495-4ec8-8032-4334ce2bbad3",
   "metadata": {
    "editable": true,
    "slideshow": {
     "slide_type": "skip"
    },
    "tags": []
   },
   "source": [
    "---"
   ]
  },
  {
   "cell_type": "markdown",
   "id": "56e29163-890f-4db8-8719-b0e6d823f59e",
   "metadata": {
    "editable": true,
    "slideshow": {
     "slide_type": "subslide"
    },
    "tags": []
   },
   "source": [
    "## whoami"
   ]
  },
  {
   "cell_type": "markdown",
   "id": "a6c37016-a535-43e7-9fcb-3c95c19af580",
   "metadata": {
    "editable": true,
    "slideshow": {
     "slide_type": ""
    },
    "tags": []
   },
   "source": [
    "- Данила Манаков (можно на ты)"
   ]
  },
  {
   "cell_type": "markdown",
   "id": "8da231fc-c91d-4bd8-9193-77cb6dad838a",
   "metadata": {
    "editable": true,
    "slideshow": {
     "slide_type": "fragment"
    },
    "tags": []
   },
   "source": [
    "- ФИВТ"
   ]
  },
  {
   "cell_type": "markdown",
   "id": "c1a3b1b1-fe62-4207-934d-be073eee2abb",
   "metadata": {
    "editable": true,
    "slideshow": {
     "slide_type": "fragment"
    },
    "tags": []
   },
   "source": [
    "- работаю Яндексе"
   ]
  },
  {
   "cell_type": "markdown",
   "id": "5d039723-232c-4642-9be2-fbbac376d03d",
   "metadata": {
    "editable": true,
    "slideshow": {
     "slide_type": "fragment"
    },
    "tags": []
   },
   "source": [
    "- ex Anabar, ex Tinkoff (охотно болтаю про работу)"
   ]
  },
  {
   "cell_type": "markdown",
   "id": "0423745b-f49a-4c44-ae94-bdb866394352",
   "metadata": {
    "editable": true,
    "slideshow": {
     "slide_type": "fragment"
    },
    "tags": []
   },
   "source": [
    "- [t.me/DanilaManakov](t.me/DanilaManakov)\n",
    "    - можно писать в любое время дня и ночи\n",
    "    - отвечу как смогу"
   ]
  },
  {
   "cell_type": "markdown",
   "id": "6d6bd9a2-7c1d-4ee6-bf98-5b274a4260cb",
   "metadata": {
    "editable": true,
    "slideshow": {
     "slide_type": "skip"
    },
    "tags": []
   },
   "source": [
    "---"
   ]
  },
  {
   "cell_type": "markdown",
   "id": "c74e6a8e-096e-4d2d-b1e2-0d30c80d39dc",
   "metadata": {
    "editable": true,
    "slideshow": {
     "slide_type": "slide"
    },
    "tags": []
   },
   "source": [
    "# whois АКОС\n",
    "(о чем курс)"
   ]
  },
  {
   "cell_type": "markdown",
   "id": "3ca5f28a-3d85-4c99-a426-7d7ffffcff45",
   "metadata": {
    "editable": true,
    "slideshow": {
     "slide_type": "skip"
    },
    "tags": []
   },
   "source": [
    "---"
   ]
  },
  {
   "cell_type": "markdown",
   "id": "91efcd25-8356-4dee-a53a-f0e4d375366a",
   "metadata": {
    "editable": true,
    "slideshow": {
     "slide_type": "subslide"
    },
    "tags": []
   },
   "source": [
    "## Что будет"
   ]
  },
  {
   "cell_type": "markdown",
   "id": "ce09bfdc-de19-4968-8c6d-5a75314f1e0e",
   "metadata": {
    "editable": true,
    "slideshow": {
     "slide_type": "fragment"
    },
    "tags": []
   },
   "source": [
    "- Есть ~~повесть~~ курс в двух частях об операционных системах"
   ]
  },
  {
   "cell_type": "markdown",
   "id": "3130547f-5c14-48e1-81b4-7c035f60da39",
   "metadata": {
    "editable": true,
    "slideshow": {
     "slide_type": "fragment"
    },
    "tags": []
   },
   "source": [
    "- Первая часть - про взаимодействие с ядром"
   ]
  },
  {
   "cell_type": "markdown",
   "id": "0fc04f86-8c66-45e3-b2f7-d001c61d3d0f",
   "metadata": {
    "editable": true,
    "slideshow": {
     "slide_type": "fragment"
    },
    "tags": []
   },
   "source": [
    "- Вторая часть - про то, как ядро устроено"
   ]
  },
  {
   "cell_type": "markdown",
   "id": "134b0912-e086-474d-8387-c1372681d7e1",
   "metadata": {
    "editable": true,
    "slideshow": {
     "slide_type": "fragment"
    },
    "tags": []
   },
   "source": [
    "Это первая часть))"
   ]
  },
  {
   "cell_type": "markdown",
   "id": "4c427f26-e8cc-4bfb-b853-4f631fa85497",
   "metadata": {
    "editable": true,
    "slideshow": {
     "slide_type": "skip"
    },
    "tags": []
   },
   "source": [
    "---"
   ]
  },
  {
   "cell_type": "markdown",
   "id": "2ccc9e9d-1b5b-49ed-938a-b3c0e21e150d",
   "metadata": {
    "editable": true,
    "slideshow": {
     "slide_type": "subslide"
    },
    "tags": []
   },
   "source": [
    "По темам разбивка +-такая"
   ]
  },
  {
   "cell_type": "markdown",
   "id": "6ef58acc-a47a-480c-92e4-67b034fdcd7b",
   "metadata": {
    "editable": true,
    "slideshow": {
     "slide_type": "fragment"
    },
    "tags": []
   },
   "source": [
    "- Си"
   ]
  },
  {
   "cell_type": "markdown",
   "id": "6d39e639-d1d8-4880-bf47-8d3e35194375",
   "metadata": {
    "editable": true,
    "slideshow": {
     "slide_type": "fragment"
    },
    "tags": []
   },
   "source": [
    "- инструменты"
   ]
  },
  {
   "cell_type": "markdown",
   "id": "f7dff651-4086-4dc3-8c6b-34466ef067d1",
   "metadata": {
    "editable": true,
    "slideshow": {
     "slide_type": "fragment"
    },
    "tags": []
   },
   "source": [
    "- ассемблер"
   ]
  },
  {
   "cell_type": "markdown",
   "id": "2aabcb38-4077-472a-9399-9c05d28027ef",
   "metadata": {
    "editable": true,
    "slideshow": {
     "slide_type": "fragment"
    },
    "tags": []
   },
   "source": [
    "- файлы"
   ]
  },
  {
   "cell_type": "markdown",
   "id": "e3657657-4c25-4e26-8d33-e08c273c6b22",
   "metadata": {
    "editable": true,
    "slideshow": {
     "slide_type": "fragment"
    },
    "tags": []
   },
   "source": [
    "- память"
   ]
  },
  {
   "cell_type": "markdown",
   "id": "0be392e1-2c0b-44e9-947a-a6784b2b8d4f",
   "metadata": {
    "editable": true,
    "slideshow": {
     "slide_type": "fragment"
    },
    "tags": []
   },
   "source": [
    "- многопоточка"
   ]
  },
  {
   "cell_type": "markdown",
   "id": "90546621-1b4c-439a-a456-08b8dd03892e",
   "metadata": {
    "editable": true,
    "slideshow": {
     "slide_type": "fragment"
    },
    "tags": []
   },
   "source": [
    "- сети"
   ]
  },
  {
   "cell_type": "markdown",
   "id": "adb57adb-60e9-46dd-adbf-d7cebb87737f",
   "metadata": {
    "editable": true,
    "slideshow": {
     "slide_type": "fragment"
    },
    "tags": []
   },
   "source": [
    "- сигналы (IPC)"
   ]
  },
  {
   "cell_type": "markdown",
   "id": "d6d27bfb-3c33-4e1a-9969-cd6be89252cc",
   "metadata": {
    "editable": true,
    "slideshow": {
     "slide_type": "fragment"
    },
    "tags": []
   },
   "source": [
    "- ..."
   ]
  },
  {
   "cell_type": "markdown",
   "id": "fe9bb92a-577e-43f8-a353-70ec175c7d3b",
   "metadata": {
    "editable": true,
    "slideshow": {
     "slide_type": "fragment"
    },
    "tags": []
   },
   "source": [
    "Ну и на семинарах (в качестве интрументов) будут python и bash"
   ]
  },
  {
   "cell_type": "markdown",
   "id": "78e87ea0-dd44-4b94-8fcf-96716597cb8a",
   "metadata": {
    "editable": true,
    "slideshow": {
     "slide_type": "skip"
    },
    "tags": []
   },
   "source": [
    "---"
   ]
  },
  {
   "cell_type": "markdown",
   "id": "ff1184be-7113-4a75-b632-a7a2f19b07a6",
   "metadata": {
    "editable": true,
    "slideshow": {
     "slide_type": "subslide"
    },
    "tags": []
   },
   "source": [
    "## Большая цель на курс"
   ]
  },
  {
   "cell_type": "markdown",
   "id": "a50a8216-dabb-44bc-b562-7f416b5a8bb4",
   "metadata": {
    "editable": true,
    "slideshow": {
     "slide_type": ""
    },
    "tags": []
   },
   "source": [
    "# Docker"
   ]
  },
  {
   "cell_type": "markdown",
   "id": "7f8d8b6b-c6ef-4819-b3b6-1038f2a31855",
   "metadata": {
    "editable": true,
    "slideshow": {
     "slide_type": "fragment"
    },
    "tags": []
   },
   "source": [
    "Буду делать к нему отсылки - иногда явные, иногда нет.\n",
    "\n",
    "Под конец семестра (в идеале) вы будете знать как он работает."
   ]
  },
  {
   "cell_type": "markdown",
   "id": "4adcfa2f-d817-4123-bc23-108adf5553ba",
   "metadata": {
    "editable": true,
    "slideshow": {
     "slide_type": "skip"
    },
    "tags": []
   },
   "source": [
    "---"
   ]
  },
  {
   "cell_type": "markdown",
   "id": "e4fe58cc-1f6e-47ad-81b3-1a607f9629e0",
   "metadata": {
    "editable": true,
    "slideshow": {
     "slide_type": "slide"
    },
    "tags": []
   },
   "source": [
    "# Как закрыть курс"
   ]
  },
  {
   "cell_type": "markdown",
   "id": "0483d41d-1ec8-4437-906f-457ff1a1806e",
   "metadata": {
    "editable": true,
    "slideshow": {
     "slide_type": "subslide"
    },
    "tags": []
   },
   "source": [
    "## Вам понадобится"
   ]
  },
  {
   "cell_type": "markdown",
   "id": "f91bdb10-39af-42ac-8b97-a83a3a862afe",
   "metadata": {
    "editable": true,
    "slideshow": {
     "slide_type": "fragment"
    },
    "tags": []
   },
   "source": [
    "# Linux\n",
    "(вроде логично)"
   ]
  },
  {
   "cell_type": "markdown",
   "id": "162b4117-0d89-452e-80c9-9fc9113c989c",
   "metadata": {
    "editable": true,
    "slideshow": {
     "slide_type": "fragment"
    },
    "tags": []
   },
   "source": [
    "- в целом можно WSL\n",
    "- можно MacOS\n",
    "\n",
    "(по ним техподдержка в общем чате)"
   ]
  },
  {
   "cell_type": "markdown",
   "id": "f1a10ff9-f96a-4ab6-9125-5e205297f96b",
   "metadata": {
    "editable": true,
    "slideshow": {
     "slide_type": "fragment"
    },
    "tags": []
   },
   "source": [
    "Просто I use Arch btw"
   ]
  },
  {
   "cell_type": "markdown",
   "id": "e8a03f50-161c-4c38-bc17-801a26119869",
   "metadata": {
    "editable": true,
    "slideshow": {
     "slide_type": "skip"
    },
    "tags": []
   },
   "source": [
    "---"
   ]
  },
  {
   "cell_type": "markdown",
   "id": "40565774-4755-4a87-a822-b6fb649af17e",
   "metadata": {
    "editable": true,
    "slideshow": {
     "slide_type": "subslide"
    },
    "tags": []
   },
   "source": [
    "## Алгоритм следующий"
   ]
  },
  {
   "cell_type": "markdown",
   "id": "99f0c9a9-17a3-4c45-ae7a-fdf3d7799893",
   "metadata": {
    "editable": true,
    "slideshow": {
     "slide_type": "fragment"
    },
    "tags": []
   },
   "source": [
    "1. Решаете задачки (их пока нет, но скоро будут)"
   ]
  },
  {
   "cell_type": "markdown",
   "id": "a17bfb4e-d8f4-4593-b3fa-dba14faabe22",
   "metadata": {
    "editable": true,
    "slideshow": {
     "slide_type": "fragment"
    },
    "tags": []
   },
   "source": [
    "2. Проходите code review (от меня)"
   ]
  },
  {
   "cell_type": "markdown",
   "id": "d075cddb-dfe9-449b-8ea9-da8972de53d2",
   "metadata": {
    "editable": true,
    "slideshow": {
     "slide_type": "fragment"
    },
    "tags": []
   },
   "source": [
    "3. Защищаете задачки"
   ]
  },
  {
   "cell_type": "markdown",
   "id": "18e52288-0a67-4e97-9a31-89a8ea5db0f5",
   "metadata": {
    "editable": true,
    "slideshow": {
     "slide_type": "fragment"
    },
    "tags": []
   },
   "source": [
    "4. Profit!"
   ]
  },
  {
   "cell_type": "markdown",
   "id": "1de67846-b314-417e-bfa6-4cd61dc9158c",
   "metadata": {
    "editable": true,
    "slideshow": {
     "slide_type": "skip"
    },
    "tags": []
   },
   "source": [
    "---"
   ]
  },
  {
   "cell_type": "markdown",
   "id": "6372147e-ca9f-465e-8448-11710e62a08a",
   "metadata": {
    "editable": true,
    "slideshow": {
     "slide_type": "subslide"
    },
    "tags": []
   },
   "source": [
    "## Ассистенты"
   ]
  },
  {
   "cell_type": "markdown",
   "id": "83d073c2-37ea-4c94-9b0a-8a7194be2746",
   "metadata": {
    "editable": true,
    "slideshow": {
     "slide_type": "fragment"
    },
    "tags": []
   },
   "source": [
    "<table>\n",
    "    <tr>\n",
    "        <td>\n",
    "            <center><img style=\"width: 122px; height: 122px; border-radius: 61px;\" src=\"dasha.jpg\"></center>\n",
    "        </td>\n",
    "    </tr>\n",
    "    <tr>\n",
    "        <td>\n",
    "            <center><p>Дарья aka <b>@dashakhristoforova</b></p></center>\n",
    "        </td>\n",
    "    </tr>\n",
    "</table>\n",
    "\n",
    "<center>Она есть в чатике группы</center>"
   ]
  },
  {
   "cell_type": "markdown",
   "id": "9450c396-1829-46f4-abcd-5a69ac750493",
   "metadata": {
    "editable": true,
    "slideshow": {
     "slide_type": "skip"
    },
    "tags": []
   },
   "source": [
    "---"
   ]
  },
  {
   "cell_type": "markdown",
   "id": "574a47dc-5f24-4be8-b0bb-69b319490e8e",
   "metadata": {
    "editable": true,
    "slideshow": {
     "slide_type": "subslide"
    },
    "tags": []
   },
   "source": [
    "$total\\_score = \\sum\\limits_{i=1}^{N}task\\_score_{i}$"
   ]
  },
  {
   "cell_type": "markdown",
   "id": "207a72d1-9518-4055-a80e-3d8b650b3f43",
   "metadata": {
    "editable": true,
    "slideshow": {
     "slide_type": ""
    },
    "tags": []
   },
   "source": [
    "По опыту прошлых лет - обязательных задач хватало на уд\n",
    "\n",
    "(Числа в табличке **выдуманы**)\n",
    "\n",
    "| total_score |  mark  |\n",
    "|-------------|--------|\n",
    "| 1234 - 2345 |   10   |\n",
    "|     ...     |   ...  |\n",
    "|     ...     |   ...  |\n",
    "|     ...     |   ...  |\n",
    "|     0-100   |    2   |"
   ]
  },
  {
   "cell_type": "markdown",
   "id": "d88e3d81-dc21-4473-a2a3-a8a1fdd9e695",
   "metadata": {
    "editable": true,
    "slideshow": {
     "slide_type": "subslide"
    },
    "tags": []
   },
   "source": [
    "# Вопросы?)\n",
    "\n",
    "Как появится первая домашка (A + B) - покажу, как сдавать домашки и расскажу про сдачу подробнее"
   ]
  },
  {
   "cell_type": "markdown",
   "id": "0095555b-5781-46cd-8a84-40dfa1539d37",
   "metadata": {
    "editable": true,
    "slideshow": {
     "slide_type": "skip"
    },
    "tags": []
   },
   "source": [
    "---"
   ]
  },
  {
   "cell_type": "markdown",
   "id": "f3a8b29d-759b-400b-9ba8-de057d8b57e2",
   "metadata": {
    "editable": true,
    "slideshow": {
     "slide_type": "slide"
    },
    "tags": []
   },
   "source": [
    "# Инструменты разработки"
   ]
  },
  {
   "cell_type": "markdown",
   "id": "07f0458b-65a4-4dbb-8504-62d48b194ab4",
   "metadata": {
    "editable": true,
    "slideshow": {
     "slide_type": "subslide"
    },
    "tags": []
   },
   "source": [
    "# bash"
   ]
  },
  {
   "cell_type": "markdown",
   "id": "e10a2ffe-e641-4828-895e-3cef8b02df1d",
   "metadata": {
    "editable": true,
    "slideshow": {
     "slide_type": "fragment"
    },
    "tags": []
   },
   "source": [
    "На семинаре буду пользоваться терминалом (много)\n",
    "\n",
    "Так что привыкайте"
   ]
  },
  {
   "cell_type": "markdown",
   "id": "c6e317e7-c999-4205-ac63-afa6d44e643e",
   "metadata": {
    "editable": true,
    "slideshow": {
     "slide_type": "subslide"
    },
    "tags": []
   },
   "source": [
    "## 3 секунды терминологии\n",
    "\n",
    "**Терминал** (вообще говоря _эмулятор терминала_) - окошко, куда вводят команды.\n",
    "\n",
    "**Оболочка** aka **shell** - программа-интерпретатор, которая эти команды исполняет\n",
    "\n",
    "**bash** - одна из оболочек\n",
    "\n",
    "**zsh** - еще одна оболочка (на MacOS - по умолчанию)"
   ]
  },
  {
   "cell_type": "markdown",
   "id": "e8799267-6ae0-4074-b37f-cc60aebd7aed",
   "metadata": {
    "editable": true,
    "slideshow": {
     "slide_type": "subslide"
    },
    "tags": []
   },
   "source": [
    "Команда (в общем виде) выглядит вот так\n",
    "\n",
    "```bash\n",
    "cmd arg1 arg2 arg3\n",
    "```"
   ]
  },
  {
   "cell_type": "markdown",
   "id": "2eed82d8-7f25-4205-b18e-4a2eac34d74b",
   "metadata": {
    "editable": true,
    "slideshow": {
     "slide_type": ""
    },
    "tags": []
   },
   "source": [
    "_arg0_ тоже есть - это имя команды"
   ]
  },
  {
   "cell_type": "markdown",
   "id": "a6748e4a-0af3-452b-bc82-38b34dbe880b",
   "metadata": {
    "editable": true,
    "slideshow": {
     "slide_type": "subslide"
    },
    "tags": []
   },
   "source": [
    "Но чаще вы будете видить что-то такое\n",
    "\n",
    "```bash\n",
    "cat --help\n",
    "```\n",
    "\n",
    "Тогда `--help` - флаг"
   ]
  },
  {
   "cell_type": "markdown",
   "id": "f9818203-710f-4d7b-a708-ae6ef5582b64",
   "metadata": {
    "editable": true,
    "slideshow": {
     "slide_type": "fragment"
    },
    "tags": []
   },
   "source": [
    "Иногда у флагов есть короткие версии\n",
    "\n",
    "```bash\n",
    "python3 --help\n",
    "python3 -h\n",
    "```"
   ]
  },
  {
   "cell_type": "markdown",
   "id": "3b0de61f-089c-4b0c-bbfc-ab88c4efd395",
   "metadata": {
    "editable": true,
    "slideshow": {
     "slide_type": "fragment"
    },
    "tags": []
   },
   "source": [
    "Но не все что `--smth` или `-s` - это флаг\n",
    "\n",
    "Иногда так передаются аргументы\n",
    "```bash\n",
    "usermod -a -G docker danila\n",
    "```"
   ]
  },
  {
   "cell_type": "markdown",
   "id": "03caaeb1-da91-4848-8eef-be6786ab084c",
   "metadata": {
    "editable": true,
    "slideshow": {
     "slide_type": "fragment"
    },
    "tags": []
   },
   "source": [
    "`-a` - флаг\n",
    "\n",
    "`-G` - короткая версия `--groups` - агрумент (после него будет строка-значение)"
   ]
  },
  {
   "cell_type": "markdown",
   "id": "5712f0b1-53d0-4160-8887-c3dba6f93892",
   "metadata": {
    "editable": true,
    "slideshow": {
     "slide_type": "subslide"
    },
    "tags": []
   },
   "source": [
    "Или даже\n",
    "```bash\n",
    "dd if=/dev/zero of=/swapfile bs=1M count=1024\n",
    "```\n",
    "\n",
    "Это скорее редкость, но так тоже бывает)"
   ]
  },
  {
   "cell_type": "markdown",
   "id": "bf6b9813-a080-477f-9b89-3a9016fba32d",
   "metadata": {
    "editable": true,
    "slideshow": {
     "slide_type": "subslide"
    },
    "tags": []
   },
   "source": [
    "Если не знаете, что делает команда - то вот вам пара команд в помощь\n",
    "\n",
    "1. `cat --help` - выводит help (может быть плохой)\n",
    "2. `man cat` - открывает man-страницу (может не быть)\n",
    "3. `info cat` - выводит info documentation (может не быть)"
   ]
  },
  {
   "cell_type": "markdown",
   "id": "9b222fed-5ee7-42b4-953c-5be103349913",
   "metadata": {
    "editable": true,
    "slideshow": {
     "slide_type": "fragment"
    },
    "tags": []
   },
   "source": [
    "Ну и моя самая любимая (рекомендую)\n",
    "\n",
    "`tldr cat`"
   ]
  },
  {
   "cell_type": "markdown",
   "id": "96699ea8-bbdd-4141-b2e6-3b9f01e3c3b5",
   "metadata": {
    "editable": true,
    "slideshow": {
     "slide_type": "subslide"
    },
    "tags": []
   },
   "source": [
    "Иногда в начало ставят символ `$` или `#`"
   ]
  },
  {
   "cell_type": "markdown",
   "id": "45edf8bc-bbe9-4cfe-9404-b752fac9ce4f",
   "metadata": {
    "editable": true,
    "slideshow": {
     "slide_type": "fragment"
    },
    "tags": []
   },
   "source": [
    "Вот эта команда должна быть выполнена от пользователя без привелегий\n",
    "```bash\n",
    "$ ls -la\n",
    "```\n",
    "\n",
    "Если `#` стоит в начале - это не всегда комментарий (тут форматирование вышло из чата). Это указание, что команда должна быть выполнена от имени пользователя с правами `root`\n",
    "```bash\n",
    "# usermod -a -G docker danila\n",
    "```"
   ]
  },
  {
   "cell_type": "markdown",
   "id": "af4d2aa6-b865-4956-9584-646006246893",
   "metadata": {
    "editable": true,
    "slideshow": {
     "slide_type": "fragment"
    },
    "tags": []
   },
   "source": [
    "Я эти символы буду опускать (так копировать удобнее)"
   ]
  },
  {
   "cell_type": "markdown",
   "id": "f310af28-7983-427f-b6c1-ece23605f766",
   "metadata": {
    "editable": true,
    "slideshow": {
     "slide_type": "subslide"
    },
    "tags": []
   },
   "source": [
    "Топ самых популярных команд\n",
    "\n",
    "- cd\n",
    "- ls\n",
    "- echo\n",
    "- cat\n",
    "- nano (vim)\n",
    "- mkdir\n",
    "- touch\n",
    "- rm\n",
    "- head\n",
    "- tail"
   ]
  },
  {
   "cell_type": "markdown",
   "id": "4770a8f7-1a54-4b5d-ba07-8a0e968623ae",
   "metadata": {
    "editable": true,
    "slideshow": {
     "slide_type": "fragment"
    },
    "tags": []
   },
   "source": [
    "Про bash пока хватит, потом будет ещё"
   ]
  },
  {
   "cell_type": "markdown",
   "id": "e039f83c-accb-4d67-a1c1-3c9042c37c7f",
   "metadata": {
    "editable": true,
    "slideshow": {
     "slide_type": "slide"
    },
    "tags": []
   },
   "source": [
    "# Сборка"
   ]
  },
  {
   "cell_type": "markdown",
   "id": "642912e8-d37d-4559-8cca-e724e98ff0f3",
   "metadata": {
    "editable": true,
    "slideshow": {
     "slide_type": "subslide"
    },
    "tags": []
   },
   "source": [
    "## Будем разбирать вот это\n",
    "1. Код на C\n",
    "2. ???\n",
    "3. ???\n",
    "4. ???\n",
    "5. И тут готовая программа"
   ]
  },
  {
   "cell_type": "markdown",
   "id": "a7a4eb1e-9324-481b-a379-c590711f5c90",
   "metadata": {
    "editable": true,
    "slideshow": {
     "slide_type": "subslide"
    },
    "tags": []
   },
   "source": [
    "Пусть есть простая программа"
   ]
  },
  {
   "cell_type": "code",
   "execution_count": 1,
   "id": "c1582d56-3ee6-4d1c-8bed-8a3787e88267",
   "metadata": {
    "editable": true,
    "slideshow": {
     "slide_type": ""
    },
    "tags": []
   },
   "outputs": [
    {
     "name": "stdout",
     "output_type": "stream",
     "text": [
      "#include <stdio.h>\n",
      "\n",
      "void greet(char *name) {\n",
      "    printf(\"Hello, %s\\n\", name);\n",
      "}\n",
      "\n",
      "int main(int argc, char **argv) {\n",
      "    if (argc != 2) {\n",
      "        printf(\"Usage:\\n\\t%s name\\n\", argv[0]);\n",
      "        return 1;\n",
      "    }\n",
      "\n",
      "    greet(argv[1]);\n",
      "    return 0;\n",
      "}\n"
     ]
    }
   ],
   "source": [
    "!cat main.c"
   ]
  },
  {
   "cell_type": "markdown",
   "id": "0d7f4826-b1fd-49e8-b11d-bc10322a8438",
   "metadata": {
    "editable": true,
    "slideshow": {
     "slide_type": "subslide"
    },
    "tags": []
   },
   "source": [
    "Она даже запускается и работает"
   ]
  },
  {
   "cell_type": "code",
   "execution_count": 2,
   "id": "c895db1e-6a0c-42a4-88a9-6aeae7393a41",
   "metadata": {
    "editable": true,
    "slideshow": {
     "slide_type": ""
    },
    "tags": []
   },
   "outputs": [],
   "source": [
    "!gcc main.c"
   ]
  },
  {
   "cell_type": "code",
   "execution_count": 3,
   "id": "1b22de26-73d7-4eaa-82b5-3fc0361e761f",
   "metadata": {
    "editable": true,
    "slideshow": {
     "slide_type": ""
    },
    "tags": []
   },
   "outputs": [
    {
     "name": "stdout",
     "output_type": "stream",
     "text": [
      "Usage:\n",
      "\t./a.out name\n"
     ]
    }
   ],
   "source": [
    "!./a.out"
   ]
  },
  {
   "cell_type": "code",
   "execution_count": 4,
   "id": "2c2819bf-1fb9-4245-bf83-e01fc190f4c6",
   "metadata": {
    "editable": true,
    "slideshow": {
     "slide_type": ""
    },
    "tags": []
   },
   "outputs": [
    {
     "name": "stdout",
     "output_type": "stream",
     "text": [
      "Hello, курс АКОС-а\n"
     ]
    }
   ],
   "source": [
    "!./a.out \"курс АКОС-а\""
   ]
  },
  {
   "cell_type": "markdown",
   "id": "636ac6a7-e977-4591-8653-6772695730aa",
   "metadata": {
    "editable": true,
    "slideshow": {
     "slide_type": "subslide"
    },
    "tags": []
   },
   "source": [
    "## Этапов на самом деле много"
   ]
  },
  {
   "cell_type": "markdown",
   "id": "01a1917c-619f-4c2c-858b-dedffaa0b29c",
   "metadata": {
    "editable": true,
    "slideshow": {
     "slide_type": "fragment"
    },
    "tags": []
   },
   "source": [
    "- Препроцессор\n",
    "  - из кода на C делает код на C"
   ]
  },
  {
   "cell_type": "markdown",
   "id": "68b0a95d-37fd-4e49-aa07-147a8bd57ded",
   "metadata": {
    "editable": true,
    "slideshow": {
     "slide_type": "fragment"
    },
    "tags": []
   },
   "source": [
    "- Компилятор\n",
    "  - из кода на С делает промежуточное представление (ASM / llvm)\n"
   ]
  },
  {
   "cell_type": "markdown",
   "id": "3508bc18-90f7-4a36-afa4-22785473122b",
   "metadata": {
    "editable": true,
    "slideshow": {
     "slide_type": "fragment"
    },
    "tags": []
   },
   "source": [
    "- Ассемблер\n",
    "  - из кода на ASM делает машинные инструкции"
   ]
  },
  {
   "cell_type": "markdown",
   "id": "121d5c3b-fa7b-4c55-9cec-c6843b31719d",
   "metadata": {
    "editable": true,
    "slideshow": {
     "slide_type": "fragment"
    },
    "tags": []
   },
   "source": [
    "- Линкер\n",
    "  - собирает разные `.o` файлы вместе\n",
    "  - высчитывает адреса функций\n",
    "  - высчитывает адреса библиотек (статических и динамических)"
   ]
  },
  {
   "cell_type": "markdown",
   "id": "5c4cefe6-ee47-4623-861d-d6e6d6ae17f5",
   "metadata": {
    "editable": true,
    "slideshow": {
     "slide_type": "slide"
    },
    "tags": []
   },
   "source": [
    "# Препроцессор"
   ]
  },
  {
   "cell_type": "markdown",
   "id": "1db172a2-d0b6-4dd3-a450-5c18a9004601",
   "metadata": {
    "editable": true,
    "slideshow": {
     "slide_type": "subslide"
    },
    "tags": []
   },
   "source": [
    "## Препроцессор\n",
    "\n",
    "- умеет только простые операции над текстом (вырезать + вставить)\n",
    "- обрабатывает инструкции, начинающиеся с `#`\n",
    "  - `#define`\n",
    "  - `#include`\n",
    "  - `#ifdef`\n",
    "  - `#ifndef`\n",
    "  - `#else`\n",
    "  - `#end`\n",
    "  - `#line`\n",
    "  - `#pragma`\n",
    "  - ..."
   ]
  },
  {
   "cell_type": "markdown",
   "id": "17fed162-6f22-47f8-b4b8-417a9e0a3f58",
   "metadata": {
    "editable": true,
    "slideshow": {
     "slide_type": "subslide"
    },
    "tags": []
   },
   "source": [
    "```c\n",
    "#ifndef FOO_H\n",
    "#define FOO_H\n",
    "\n",
    "#include <stdio.h>\n",
    "\n",
    "// за такое буду бить по рукам\n",
    "// используйте enum\n",
    "#define PI 3.1415926\n",
    "\n",
    "// за это буду, если не сможете назвать минусы\n",
    "#define MAX(a, b) (((a) >= (b)) ? (a) : (b))\n",
    "\n",
    "int do_smth() {\n",
    "    // ...\n",
    "}\n",
    "\n",
    "#endif"
   ]
  },
  {
   "cell_type": "markdown",
   "id": "435d6ee2-bd1c-4e6c-8e22-3ee4cfbee377",
   "metadata": {
    "editable": true,
    "slideshow": {
     "slide_type": "subslide"
    },
    "tags": []
   },
   "source": [
    "```c\n",
    "// будет обработано, если не\n",
    "// объявлено FOO_H\n",
    "#ifndef FOO_H\n",
    "#define FOO_H\n",
    "\n",
    "#include <stdio.h>\n",
    "\n",
    "// вместо каждого вхождения PI\n",
    "// будет подставлено 3.1415926\n",
    "#define PI 3.1415926\n",
    "\n",
    "// MAX(3, 4) будет раскрыто в\n",
    "// (((3) >= (4)) ? (3) : (4))\n",
    "#define MAX(a, b) (((a) >= (b)) ? (a) : (b))\n",
    "\n",
    "// этот код без изменений\n",
    "int do_smth() {\n",
    "    // ...\n",
    "}\n",
    "\n",
    "#endif"
   ]
  },
  {
   "cell_type": "markdown",
   "id": "a0db094b-61cb-4353-9454-97a171a3db54",
   "metadata": {
    "editable": true,
    "slideshow": {
     "slide_type": "subslide"
    },
    "tags": []
   },
   "source": [
    "А вот страшный пример"
   ]
  },
  {
   "cell_type": "markdown",
   "id": "bb89ed51-f793-4398-93e9-cdcde13ef6b5",
   "metadata": {
    "editable": true,
    "slideshow": {
     "slide_type": "fragment"
    },
    "tags": []
   },
   "source": [
    "```mermaid\n",
    "graph TD;\n",
    "    somelib.h --> foo.h\n",
    "    somelib.h --> bar.h\n",
    "    foo.h --> main.c\n",
    "    bar.h --> main.c\n",
    "```"
   ]
  },
  {
   "cell_type": "markdown",
   "id": "6f83eab7-05b0-4085-9c95-0563dafbcf2d",
   "metadata": {
    "editable": true,
    "slideshow": {
     "slide_type": "fragment"
    },
    "tags": []
   },
   "source": [
    "Какие проблемы видете?)"
   ]
  },
  {
   "cell_type": "markdown",
   "id": "32582ff3-ebdb-4321-b62b-68aefd5439cd",
   "metadata": {
    "editable": true,
    "slideshow": {
     "slide_type": "subslide"
    },
    "tags": []
   },
   "source": [
    "Окей, а тут?)\n",
    "\n",
    "```mermaid\n",
    "graph TD;\n",
    "    bar.h --> foo.h\n",
    "    foo.h --> bar.h\n",
    "    foo.h --> main.c\n",
    "    bar.h --> main.c\n",
    "```"
   ]
  },
  {
   "cell_type": "markdown",
   "id": "ef88bbbd-5f62-4d01-9110-72f47d6ff8cb",
   "metadata": {
    "editable": true,
    "slideshow": {
     "slide_type": "subslide"
    },
    "tags": []
   },
   "source": [
    "(тут будет пример кода с семинара)"
   ]
  },
  {
   "cell_type": "markdown",
   "id": "084438b8-5a92-48ef-a54d-a7a336bb62df",
   "metadata": {
    "editable": true,
    "slideshow": {
     "slide_type": "subslide"
    },
    "tags": []
   },
   "source": [
    "Можно запустить только препроцессор, если запускать с флагом `-E`\n",
    "\n",
    "```bash\n",
    "gcc -E main.c\n",
    "```"
   ]
  },
  {
   "cell_type": "markdown",
   "id": "c77b2462-ebb1-475d-a86e-31f00fa4d449",
   "metadata": {
    "editable": true,
    "slideshow": {
     "slide_type": "slide"
    },
    "tags": []
   },
   "source": [
    "## Компилятор"
   ]
  },
  {
   "cell_type": "markdown",
   "id": "f51c4581-ac64-4529-9244-95385e882498",
   "metadata": {
    "editable": true,
    "slideshow": {
     "slide_type": "fragment"
    },
    "tags": []
   },
   "source": [
    "- это тот, который из кода на C делает код на языке ассемблера"
   ]
  },
  {
   "cell_type": "markdown",
   "id": "1c96ff01-cf3c-41e5-80dc-f532bfd8eafe",
   "metadata": {
    "editable": true,
    "slideshow": {
     "slide_type": "subslide"
    },
    "tags": []
   },
   "source": [
    "Без лишних слов"
   ]
  },
  {
   "cell_type": "code",
   "execution_count": 5,
   "id": "924c63b7-6387-4fdf-bb68-7b0461536371",
   "metadata": {
    "editable": true,
    "slideshow": {
     "slide_type": "fragment"
    },
    "tags": []
   },
   "outputs": [],
   "source": [
    "!gcc -S -masm=intel main.c"
   ]
  },
  {
   "cell_type": "code",
   "execution_count": 6,
   "id": "48837b86-9c95-40bd-b1ad-f20a4af3315f",
   "metadata": {
    "editable": true,
    "slideshow": {
     "slide_type": "subslide"
    },
    "tags": []
   },
   "outputs": [
    {
     "name": "stdout",
     "output_type": "stream",
     "text": [
      "greet:\n",
      ".LFB0:\n",
      "\t.cfi_startproc\n",
      "\tpush\trbp\n",
      "\t.cfi_def_cfa_offset 16\n",
      "\t.cfi_offset 6, -16\n",
      "\tmov\trbp, rsp\n",
      "\t.cfi_def_cfa_register 6\n",
      "\tsub\trsp, 16\n",
      "\tmov\tQWORD PTR -8[rbp], rdi\n",
      "\tmov\trax, QWORD PTR -8[rbp]\n",
      "\tmov\trsi, rax\n",
      "\tlea\trax, .LC0[rip]\n",
      "\tmov\trdi, rax\n",
      "\tmov\teax, 0\n",
      "\tcall\tprintf@PLT\n",
      "\tnop\n",
      "\tleave\n",
      "\t.cfi_def_cfa 7, 8\n",
      "\tret\n"
     ]
    }
   ],
   "source": [
    "!cat main.s | tail -n +10 | head -n 20"
   ]
  },
  {
   "cell_type": "markdown",
   "id": "99351088-42bd-4d8c-90cd-3ce5cbb65a95",
   "metadata": {
    "editable": true,
    "slideshow": {
     "slide_type": ""
    },
    "tags": []
   },
   "source": [
    "это только одна функция"
   ]
  },
  {
   "cell_type": "markdown",
   "id": "fd3af44c-7729-402e-9b6b-20ff9a9a72f7",
   "metadata": {
    "editable": true,
    "slideshow": {
     "slide_type": "slide"
    },
    "tags": []
   },
   "source": [
    "## Ассеблер"
   ]
  },
  {
   "cell_type": "markdown",
   "id": "9a51bc18-ceee-4337-aff8-552fc09d4f67",
   "metadata": {
    "editable": true,
    "slideshow": {
     "slide_type": "subslide"
    },
    "tags": []
   },
   "source": [
    "## У меня много имен...\n",
    "\n",
    "- `ассемблер` - это программа\n",
    "- `язык ассемблера` - это язык\n",
    "- `ассемблер` переводит код на `языке ассемблера` в op-коды"
   ]
  },
  {
   "cell_type": "markdown",
   "id": "511339ba-970c-48af-ad17-d5d630d82087",
   "metadata": {
    "editable": true,
    "slideshow": {
     "slide_type": "subslide"
    },
    "tags": []
   },
   "source": [
    "Продолжаем издеваться над программой"
   ]
  },
  {
   "cell_type": "code",
   "execution_count": 7,
   "id": "9cb76448-856d-4d82-84c4-b1c132b24837",
   "metadata": {
    "editable": true,
    "slideshow": {
     "slide_type": "fragment"
    },
    "tags": []
   },
   "outputs": [],
   "source": [
    "!gcc -c main.c"
   ]
  },
  {
   "cell_type": "code",
   "execution_count": 8,
   "id": "05a2be89-e718-499c-9fd2-6e1194686ca5",
   "metadata": {
    "editable": true,
    "slideshow": {
     "slide_type": "fragment"
    },
    "tags": []
   },
   "outputs": [
    {
     "name": "stdout",
     "output_type": "stream",
     "text": [
      "main.o: ELF 64-bit LSB relocatable, x86-64, version 1 (SYSV), not stripped\n"
     ]
    }
   ],
   "source": [
    "!file main.o"
   ]
  },
  {
   "cell_type": "code",
   "execution_count": 9,
   "id": "4ec3018e-21bf-4aea-b30f-02e77f32c850",
   "metadata": {
    "editable": true,
    "slideshow": {
     "slide_type": "subslide"
    },
    "tags": []
   },
   "outputs": [
    {
     "name": "stdout",
     "output_type": "stream",
     "text": [
      "0000000000000000 <greet>:\n",
      "   0:\t55                   \tpush   rbp\n",
      "   1:\t48 89 e5             \tmov    rbp,rsp\n",
      "   4:\t48 83 ec 10          \tsub    rsp,0x10\n",
      "   8:\t48 89 7d f8          \tmov    QWORD PTR [rbp-0x8],rdi\n",
      "   c:\t48 8b 45 f8          \tmov    rax,QWORD PTR [rbp-0x8]\n",
      "  10:\t48 89 c6             \tmov    rsi,rax\n",
      "  13:\t48 8d 05 00 00 00 00 \tlea    rax,[rip+0x0]        # 1a <greet+0x1a>\n",
      "  1a:\t48 89 c7             \tmov    rdi,rax\n",
      "  1d:\tb8 00 00 00 00       \tmov    eax,0x0\n",
      "  22:\te8 00 00 00 00       \tcall   27 <greet+0x27>\n",
      "  27:\t90                   \tnop\n",
      "  28:\tc9                   \tleave\n",
      "  29:\tc3                   \tret\n",
      "\n"
     ]
    }
   ],
   "source": [
    "!objdump -d -M intel main.o | tail -n +7 | head -n 15"
   ]
  },
  {
   "cell_type": "markdown",
   "id": "c561dad6-354c-4843-b581-41ddcdb58fdf",
   "metadata": {
    "editable": true,
    "slideshow": {
     "slide_type": ""
    },
    "tags": []
   },
   "source": [
    "что-то знакомое, да?)"
   ]
  },
  {
   "cell_type": "markdown",
   "id": "1da1fe69-fc88-4d5c-9a8d-e49d436c1969",
   "metadata": {
    "editable": true,
    "slideshow": {
     "slide_type": "slide"
    },
    "tags": []
   },
   "source": [
    "# Линкер"
   ]
  },
  {
   "cell_type": "markdown",
   "id": "6242e87a-0e51-4330-a809-4aca78e9e5c0",
   "metadata": {
    "editable": true,
    "slideshow": {
     "slide_type": "subslide"
    },
    "tags": []
   },
   "source": [
    "## Линкер\n",
    "\n",
    "  - собирает разные `.o` файлы вместе\n",
    "  - высчитывает адреса функций\n",
    "  - высчитывает адреса библиотек (статических и динамических)"
   ]
  },
  {
   "cell_type": "markdown",
   "id": "3fef2d97-c525-4c27-965e-1606d725df9e",
   "metadata": {
    "editable": true,
    "slideshow": {
     "slide_type": "subslide"
    },
    "tags": []
   },
   "source": [
    "Лет 30 назад (во времена DOS) .o файлик уже можно было бы запустить*"
   ]
  },
  {
   "cell_type": "markdown",
   "id": "318fe500-cdfc-4cd4-be7d-a65192493a18",
   "metadata": {
    "editable": true,
    "slideshow": {
     "slide_type": "fragment"
    },
    "tags": []
   },
   "source": [
    "Если очень интересно - можете скачать dosbox и поиграть"
   ]
  },
  {
   "cell_type": "markdown",
   "id": "779805b5-a287-4cb9-92af-9f494286cecb",
   "metadata": {
    "editable": true,
    "slideshow": {
     "slide_type": "subslide"
    },
    "tags": []
   },
   "source": [
    "Запустить линтер в целом просто"
   ]
  },
  {
   "cell_type": "markdown",
   "id": "0fea63a7-e399-4d8b-b3a9-591a5417b558",
   "metadata": {
    "editable": true,
    "slideshow": {
     "slide_type": "fragment"
    },
    "tags": []
   },
   "source": [
    "```bash\n",
    "ld /usr/lib/x86_64-linux-gnu/crti.o /usr/lib/x86_64-linux-gnu/crtn.o /usr/lib/x86_64-linux-gnu/crt1.o -lc main.o -dynamic-linker /lib64/ld-linux-x86-64.so.2 -o main_ELF_executable\n",
    "```"
   ]
  },
  {
   "cell_type": "markdown",
   "id": "08d049b0-b43c-4e2a-a904-45a0bbe45929",
   "metadata": {
    "editable": true,
    "slideshow": {
     "slide_type": "fragment"
    },
    "tags": []
   },
   "source": [
    "шутка"
   ]
  },
  {
   "cell_type": "markdown",
   "id": "b4ea6be2-de87-4ed7-a5bf-f8dd333445bc",
   "metadata": {
    "editable": true,
    "slideshow": {
     "slide_type": "fragment"
    },
    "tags": []
   },
   "source": [
    "можете попробовать, но я не буду"
   ]
  },
  {
   "cell_type": "markdown",
   "id": "d7e9ff88-2cb8-48d8-b277-e0994f561040",
   "metadata": {
    "editable": true,
    "slideshow": {
     "slide_type": "subslide"
    },
    "tags": []
   },
   "source": [
    "Снова натравлиываем gcc"
   ]
  },
  {
   "cell_type": "code",
   "execution_count": 10,
   "id": "e79636a7-8d6b-4a37-8dbb-7cad5259645a",
   "metadata": {
    "editable": true,
    "slideshow": {
     "slide_type": "fragment"
    },
    "tags": []
   },
   "outputs": [],
   "source": [
    "!gcc main.o"
   ]
  },
  {
   "cell_type": "markdown",
   "id": "2365a347-a8a9-4577-a2e9-41b8e9416923",
   "metadata": {
    "editable": true,
    "slideshow": {
     "slide_type": "fragment"
    },
    "tags": []
   },
   "source": [
    "Тут время сказать, что вам врали"
   ]
  },
  {
   "cell_type": "markdown",
   "id": "eab1069a-7f96-4893-908e-c6da9714c363",
   "metadata": {
    "editable": true,
    "slideshow": {
     "slide_type": "fragment"
    },
    "tags": []
   },
   "source": [
    "gcc - Gnu Compiler Collection\n",
    "\n",
    "Там C, C++, Fortran, Asm, линкер..."
   ]
  },
  {
   "cell_type": "code",
   "execution_count": 11,
   "id": "8c82330b-ebfe-4577-9581-4c1bbcc163cd",
   "metadata": {
    "editable": true,
    "slideshow": {
     "slide_type": "subslide"
    },
    "tags": []
   },
   "outputs": [
    {
     "name": "stdout",
     "output_type": "stream",
     "text": [
      "0000000000001139 <greet>:\n",
      "    1139:\t55                   \tpush   rbp\n",
      "    113a:\t48 89 e5             \tmov    rbp,rsp\n",
      "    113d:\t48 83 ec 10          \tsub    rsp,0x10\n",
      "    1141:\t48 89 7d f8          \tmov    QWORD PTR [rbp-0x8],rdi\n",
      "    1145:\t48 8b 45 f8          \tmov    rax,QWORD PTR [rbp-0x8]\n",
      "    1149:\t48 89 c6             \tmov    rsi,rax\n",
      "    114c:\t48 8d 05 b1 0e 00 00 \tlea    rax,[rip+0xeb1]        # 2004 <_IO_stdin_used+0x4>\n",
      "    1153:\t48 89 c7             \tmov    rdi,rax\n",
      "    1156:\tb8 00 00 00 00       \tmov    eax,0x0\n",
      "    115b:\te8 d0 fe ff ff       \tcall   1030 <printf@plt>\n",
      "    1160:\t90                   \tnop\n",
      "    1161:\tc9                   \tleave\n",
      "    1162:\tc3                   \tret\n",
      "\n"
     ]
    }
   ],
   "source": [
    "!objdump -d -M intel a.out | tail +97 | head -n 15"
   ]
  },
  {
   "cell_type": "markdown",
   "id": "c330ac0a-e8a2-4021-a497-b8aaf747b18b",
   "metadata": {
    "editable": true,
    "slideshow": {
     "slide_type": "fragment"
    },
    "tags": []
   },
   "source": [
    "Тут время ткнуть пальцем в `_start` и сказать, что вам нагло врали)"
   ]
  },
  {
   "cell_type": "markdown",
   "id": "3a1ec6cb-cf39-4973-adad-7ea778b5fd34",
   "metadata": {
    "editable": true,
    "slideshow": {
     "slide_type": "slide"
    },
    "tags": []
   },
   "source": [
    "# Подытог всего процесса"
   ]
  },
  {
   "cell_type": "markdown",
   "id": "0a79fb06-dba5-49ba-99bf-c16c0edba33e",
   "metadata": {
    "editable": true,
    "slideshow": {
     "slide_type": "subslide"
    },
    "tags": []
   },
   "source": [
    "- Препроцессор\n",
    "```bash\n",
    "# -o это output\n",
    "gcc -E main.c -o main.i\n",
    "```\n",
    "\n",
    "- Компилятор\n",
    "```bash\n",
    "gcc -S -masm=intel main.i\n",
    "```\n",
    "\n",
    "- Ассемблер\n",
    "```bash\n",
    "gcc -c main.s\n",
    "```\n",
    "\n",
    "- Линкер\n",
    "```bash\n",
    "gcc main.o\n",
    "```"
   ]
  },
  {
   "cell_type": "markdown",
   "id": "0da5269b-ff8d-46cb-a749-b8f9ebc93a93",
   "metadata": {
    "editable": true,
    "slideshow": {
     "slide_type": "subslide"
    },
    "tags": []
   },
   "source": [
    "Но в жизни чаще будет\n",
    "\n",
    "```bash\n",
    "gcc main.c -o hw1_ex1\n",
    "```"
   ]
  },
  {
   "cell_type": "markdown",
   "id": "177b9111-01ba-4f4b-a9ad-42981272ee85",
   "metadata": {
    "editable": true,
    "slideshow": {
     "slide_type": "subslide"
    },
    "tags": []
   },
   "source": [
    "Или даже\n",
    "\n",
    "```bash\n",
    "mkdir build\n",
    "cd build\n",
    "cmake ..\n",
    "make\n",
    "```"
   ]
  },
  {
   "cell_type": "markdown",
   "id": "1558df70-143b-4b02-884c-fb83e5c1c0ac",
   "metadata": {
    "editable": true,
    "slideshow": {
     "slide_type": "subslide"
    },
    "tags": []
   },
   "source": [
    "# Вопросы по процессу сборки?"
   ]
  },
  {
   "cell_type": "markdown",
   "id": "d3900977-9158-4a77-8f62-fb69ae5fcfc3",
   "metadata": {
    "editable": true,
    "slideshow": {
     "slide_type": "slide"
    },
    "tags": []
   },
   "source": [
    "# Как делать чуть меньше ошибок?"
   ]
  },
  {
   "cell_type": "markdown",
   "id": "3f36e60e-5227-4628-8b93-8052f352c5e6",
   "metadata": {
    "editable": true,
    "slideshow": {
     "slide_type": "subslide"
    },
    "tags": []
   },
   "source": [
    "# Sanitizers"
   ]
  },
  {
   "cell_type": "markdown",
   "id": "d83c0ce2-a622-4762-a94d-203b7d86738a",
   "metadata": {
    "editable": true,
    "slideshow": {
     "slide_type": "subslide"
    },
    "tags": []
   },
   "source": [
    "# gdb"
   ]
  }
 ],
 "metadata": {
  "kernelspec": {
   "display_name": "Python 3 (ipykernel)",
   "language": "python",
   "name": "python3"
  },
  "language_info": {
   "codemirror_mode": {
    "name": "ipython",
    "version": 3
   },
   "file_extension": ".py",
   "mimetype": "text/x-python",
   "name": "python",
   "nbconvert_exporter": "python",
   "pygments_lexer": "ipython3",
   "version": "3.13.1"
  }
 },
 "nbformat": 4,
 "nbformat_minor": 5
}
