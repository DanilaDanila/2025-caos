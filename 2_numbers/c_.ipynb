{
 "cells": [
  {
   "cell_type": "code",
   "execution_count": null,
   "id": "c3b073ca-853f-4030-9b68-ea8cb1804b0d",
   "metadata": {},
   "outputs": [],
   "source": [
    "#include <stdio.h>"
   ]
  },
  {
   "cell_type": "code",
   "execution_count": null,
   "id": "9b6b76b1-5c27-4b74-96e2-b48d9a2e8765",
   "metadata": {},
   "outputs": [],
   "source": [
    "printf(\"hello, magic!\\n\")"
   ]
  }
 ],
 "metadata": {
  "kernelspec": {
   "display_name": "C++11",
   "language": "C++",
   "name": "cling-cpp11"
  },
  "language_info": {
   "name": ""
  }
 },
 "nbformat": 4,
 "nbformat_minor": 5
}
