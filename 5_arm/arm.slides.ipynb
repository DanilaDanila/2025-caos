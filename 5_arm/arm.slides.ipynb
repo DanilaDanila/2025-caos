{
 "cells": [
  {
   "cell_type": "code",
   "execution_count": null,
   "id": "6dc963e0-d272-4fb2-83f8-54b020ecc0b1",
   "metadata": {
    "editable": true,
    "slideshow": {
     "slide_type": "skip"
    },
    "tags": []
   },
   "outputs": [
    {
     "name": "stdout",
     "output_type": "stream",
     "text": [
      "[NbConvertApp] Converting notebook arm.slides.ipynb to slides\n",
      "[NbConvertApp] Writing 345784 bytes to arm.slides.slides.html\n",
      "[NbConvertApp] Redirecting reveal.js requests to https://cdnjs.cloudflare.com/ajax/libs/reveal.js/3.5.0\n",
      "Serving your slides at http://127.0.0.1:8000/arm.slides.slides.html\n",
      "Use Control-C to stop this server\n"
     ]
    }
   ],
   "source": [
    "!jupyter nbconvert arm.slides.ipynb --to slides --post serve"
   ]
  },
  {
   "cell_type": "markdown",
   "id": "aefaaeeb-a3bb-41ef-94d6-6b9462cdcf10",
   "metadata": {
    "editable": true,
    "slideshow": {
     "slide_type": "slide"
    },
    "tags": []
   },
   "source": [
    "# SIMD + ARM"
   ]
  },
  {
   "cell_type": "markdown",
   "id": "b021def4-c9b6-42c0-9bf1-4ccc7b4e12bc",
   "metadata": {
    "editable": true,
    "slideshow": {
     "slide_type": "slide"
    },
    "tags": []
   },
   "source": [
    "# А теперь прям совсем жесть: числа с плавающей точкой"
   ]
  },
  {
   "cell_type": "markdown",
   "id": "3d496f50-0bdd-4f9c-a028-66787d6a1ede",
   "metadata": {
    "editable": true,
    "slideshow": {
     "slide_type": "subslide"
    },
    "tags": []
   },
   "source": [
    "## Есть отдельный чип (уже нет)"
   ]
  },
  {
   "cell_type": "markdown",
   "id": "0d9bed5d-46f8-4c8c-b7af-8113d2aaac1d",
   "metadata": {
    "editable": true,
    "slideshow": {
     "slide_type": "fragment"
    },
    "tags": []
   },
   "source": [
    "- `FPU` aka **F**loating point **P**rocessing **U**nit"
   ]
  },
  {
   "cell_type": "markdown",
   "id": "c8c4f58f-2b56-4b62-9e24-aac0b6ce69dd",
   "metadata": {
    "editable": true,
    "slideshow": {
     "slide_type": "fragment"
    },
    "tags": []
   },
   "source": [
    "- есть \"старые\" регистры размером в 80bit, но мы про них не будем говорить"
   ]
  },
  {
   "cell_type": "markdown",
   "id": "4625ceb5-8024-40f5-abe3-884595919fc0",
   "metadata": {
    "editable": true,
    "slideshow": {
     "slide_type": "fragment"
    },
    "tags": []
   },
   "source": [
    "- есть **SSE** (**S**treaming **S**IMD **E**xtensions) и у него свои регистры"
   ]
  },
  {
   "cell_type": "markdown",
   "id": "73a559a4-149e-4bcf-b051-a3b8afc8df57",
   "metadata": {
    "editable": true,
    "slideshow": {
     "slide_type": "fragment"
    },
    "tags": []
   },
   "source": [
    "- `xmm0`, `xmm1`, ... `xmm15` размером 128bit"
   ]
  },
  {
   "cell_type": "markdown",
   "id": "b0fd58cc-59ab-4656-b757-9d62ebb63b19",
   "metadata": {
    "editable": true,
    "slideshow": {
     "slide_type": "fragment"
    },
    "tags": []
   },
   "source": [
    "- `ymm0`, `ymm1`, ... `ymm15` - 256bit"
   ]
  },
  {
   "cell_type": "markdown",
   "id": "8255e903-8fab-41e1-80ac-89adc9c80fd1",
   "metadata": {
    "editable": true,
    "slideshow": {
     "slide_type": "fragment"
    },
    "tags": []
   },
   "source": [
    "- `zmm0`, `zmm1`, ... `zmm15` - 512bit"
   ]
  },
  {
   "cell_type": "markdown",
   "id": "282754c3-685b-4709-ad3e-8e04f6e9cbd7",
   "metadata": {
    "editable": true,
    "slideshow": {
     "slide_type": "fragment"
    },
    "tags": []
   },
   "source": [
    "- регистры тоже вложены друг в друга (`xmmN` в `ymmN` в `zmmN`)"
   ]
  },
  {
   "cell_type": "markdown",
   "id": "b94e6586-8c77-42bd-9e9b-52e94acd71fb",
   "metadata": {
    "editable": true,
    "slideshow": {
     "slide_type": "subslide"
    },
    "tags": []
   },
   "source": [
    "Все примеры будут про `xmmN`. Работа с `ymmN` аналогична"
   ]
  },
  {
   "cell_type": "markdown",
   "id": "7a5ce2c8-a65e-4d34-a9a2-44b12d7cbb06",
   "metadata": {
    "editable": true,
    "slideshow": {
     "slide_type": "subslide"
    },
    "tags": []
   },
   "source": [
    "## Just floats"
   ]
  },
  {
   "cell_type": "markdown",
   "id": "4b135b20-1a86-4315-90b9-5c3757d9a046",
   "metadata": {
    "editable": true,
    "slideshow": {
     "slide_type": "fragment"
    },
    "tags": []
   },
   "source": [
    "- была команда `mov`"
   ]
  },
  {
   "cell_type": "markdown",
   "id": "ab881140-fa86-4e66-b0c8-b93cf19f6576",
   "metadata": {
    "editable": true,
    "slideshow": {
     "slide_type": "fragment"
    },
    "tags": []
   },
   "source": [
    "- к ней добавили суффикс `s` (single) - т.к. работаем с одним числом"
   ]
  },
  {
   "cell_type": "markdown",
   "id": "e84dd111-ed03-4772-9435-869d83733ac0",
   "metadata": {
    "editable": true,
    "slideshow": {
     "slide_type": "fragment"
    },
    "tags": []
   },
   "source": [
    "- и дальше добавляем либо `s` (снова single - aka float), либо `d` (double)"
   ]
  },
  {
   "cell_type": "markdown",
   "id": "c6612316-52f9-4f7a-b821-84fabe397443",
   "metadata": {
    "editable": true,
    "slideshow": {
     "slide_type": "fragment"
    },
    "tags": []
   },
   "source": [
    "```asm\n",
    "// используем только младшие 32bit регистра\n",
    "   movss DST, SRC\n",
    "// |  |`- Single - aka float\n",
    "// |   `- Single - работаем с одним числом\n",
    "// `----- mov    - операнд\n",
    "\n",
    "// используем только младшие 64bit регистра\n",
    "   movsd DST, SRC\n",
    "// |  |`- Double - aka double\n",
    "// |   `- Single - работаем с одним числом\n",
    "// `----- mov    - операнд\n",
    "```"
   ]
  },
  {
   "cell_type": "markdown",
   "id": "493a3bed-418e-4ce0-901a-7dd04864ac64",
   "metadata": {
    "editable": true,
    "slideshow": {
     "slide_type": "subslide"
    },
    "tags": []
   },
   "source": [
    "## Арифметические операции"
   ]
  },
  {
   "cell_type": "markdown",
   "id": "e6c52192-6911-49a5-93ab-966931c9ce3e",
   "metadata": {
    "editable": true,
    "slideshow": {
     "slide_type": "fragment"
    },
    "tags": []
   },
   "source": [
    "Логика та же `s` для `float` и `d` для `double`"
   ]
  },
  {
   "cell_type": "markdown",
   "id": "417efbcb-1986-4731-aa3e-172bbe95dea0",
   "metadata": {
    "editable": true,
    "slideshow": {
     "slide_type": "fragment"
    },
    "tags": []
   },
   "source": [
    "```asm\n",
    "addsd   DST, SRC   // DST += SRC, double\n",
    "addss   DST, SRC   // DST += SRC, float\n",
    "subsd   DST, SRC   // DST -= SRC, double\n",
    "subss   DST, SRC   // DST -= SRC, float\n",
    "mulsd   DST, SRC   // DST *= SRC, double\n",
    "mulss   DST, SRC   // DST *= SRC, float\n",
    "divsd   DST, SRC   // DST /= SRC, double\n",
    "divss   DST, SRC   // DST /= SRC, float\n",
    "sqrtsd  DST, SRC   // DST = sqrt(SRC), double\n",
    "sqrtss  DST, SRC   // DST = sqrt(SRC), float\n",
    "maxsd   DST, SRC   // DST = max(DST, SRC), double\n",
    "maxss   DST, SRC   // DST = max(DST, SRC), float\n",
    "minsd   DST, SRC   // DST = min(DST, SRC), double\n",
    "minss   DST, SRC   // DST = min(DST, SRC), float\n",
    "```"
   ]
  },
  {
   "cell_type": "markdown",
   "id": "454690ed-bad6-4b11-93a0-8fcd486d25de",
   "metadata": {
    "editable": true,
    "slideshow": {
     "slide_type": "subslide"
    },
    "tags": []
   },
   "source": [
    "Пример, как конвертить в `int` и обратно (для `float` аналогично, но с `s`)"
   ]
  },
  {
   "cell_type": "markdown",
   "id": "391d713e-e6c8-4335-b48f-9183ee87420c",
   "metadata": {
    "editable": true,
    "slideshow": {
     "slide_type": "fragment"
    },
    "tags": []
   },
   "source": [
    "```asm\n",
    "cvtsd2si DST, SRC  // double -> int\n",
    "cvtsi2sd DST, SRC  // int -> double\n",
    "```"
   ]
  },
  {
   "cell_type": "markdown",
   "id": "06343c2e-5c1a-410d-94cb-a5379bc7e69a",
   "metadata": {
    "editable": true,
    "slideshow": {
     "slide_type": "subslide"
    },
    "tags": []
   },
   "source": [
    "Отдельно про сравнения"
   ]
  },
  {
   "cell_type": "markdown",
   "id": "a045e7c3-aa37-4bc8-b886-6a8880e51777",
   "metadata": {
    "editable": true,
    "slideshow": {
     "slide_type": "fragment"
    },
    "tags": []
   },
   "source": [
    "```asm\n",
    "comisd  DST, SRC  // для double\n",
    "comiss  DST, SRC  // для float\n",
    "```"
   ]
  },
  {
   "cell_type": "markdown",
   "id": "563091fe-908a-4323-99a3-0cabec5f7aa2",
   "metadata": {
    "editable": true,
    "slideshow": {
     "slide_type": "slide"
    },
    "tags": []
   },
   "source": [
    "## SIMD"
   ]
  },
  {
   "cell_type": "markdown",
   "id": "4d39d221-1e7c-462c-a467-fd3c9f536b5f",
   "metadata": {
    "editable": true,
    "slideshow": {
     "slide_type": "subslide"
    },
    "tags": []
   },
   "source": [
    "`xmm0` - 128bit"
   ]
  },
  {
   "cell_type": "markdown",
   "id": "3b9a4372-939d-4fc5-af6a-e44980837597",
   "metadata": {
    "editable": true,
    "slideshow": {
     "slide_type": "fragment"
    },
    "tags": []
   },
   "source": [
    "`sizeof(float) = 32bit`"
   ]
  },
  {
   "cell_type": "markdown",
   "id": "6a66eccb-07ae-42f4-9d5f-ab114172e4c1",
   "metadata": {
    "editable": true,
    "slideshow": {
     "slide_type": "fragment"
    },
    "tags": []
   },
   "source": [
    "`sizeof(double) = 64bit`"
   ]
  },
  {
   "cell_type": "markdown",
   "id": "937bad07-bf8b-4200-b51f-6e856556331a",
   "metadata": {
    "editable": true,
    "slideshow": {
     "slide_type": "fragment"
    },
    "tags": []
   },
   "source": [
    "значит в `xmm0` влезет несколько))"
   ]
  },
  {
   "cell_type": "markdown",
   "id": "b6a0c238-efdc-472d-a0ec-5731767ac8aa",
   "metadata": {
    "editable": true,
    "slideshow": {
     "slide_type": "fragment"
    },
    "tags": []
   },
   "source": [
    "и с ними можно работать параллельно (`packed`)"
   ]
  },
  {
   "cell_type": "markdown",
   "id": "42d9af10-0e37-44f5-a621-2906f4563e15",
   "metadata": {
    "editable": true,
    "slideshow": {
     "slide_type": "subslide"
    },
    "tags": []
   },
   "source": [
    "Загрузка и выгрузка\n",
    "\n",
    "```asm\n",
    "mov[ap|up][s|d] DST, SRC\n",
    "```\n",
    "\n",
    "- выравнивание по 16bit\n",
    "    - `ap` - `Aligned Packed`\n",
    "    - `up` - `Unaligned Packed` (выравнивания нет)\n",
    "- `float` / `double`\n",
    "    - `s` - `Single` aka `float`\n",
    "    - `d` - `Double` aka `double`"
   ]
  },
  {
   "cell_type": "markdown",
   "id": "75213c22-11e6-484d-83c1-a856937777c2",
   "metadata": {
    "editable": true,
    "slideshow": {
     "slide_type": "subslide"
    },
    "tags": []
   },
   "source": [
    "В общем виде команды выглядят так\n",
    "\n",
    "```asm\n",
    "OPERATION[p][s|d]\n",
    "```\n",
    "- `p` - `Packed`\n",
    "- `float` / `double`\n",
    "    - `s` - `Single` aka `float`\n",
    "    - `d` - `Double` aka `double`"
   ]
  },
  {
   "cell_type": "markdown",
   "id": "78d7d284-18f5-40e1-a557-3c4e61adf726",
   "metadata": {
    "editable": true,
    "slideshow": {
     "slide_type": "fragment"
    },
    "tags": []
   },
   "source": [
    "Ну т.е. `mulpd xmm0, xmm1` - это мы попарно перемножаем `double`-ы в `xmm0` и `xmm1` и сохраняем результат в `xmm0`"
   ]
  },
  {
   "cell_type": "markdown",
   "id": "fb96495e-d557-433b-9b7d-541d220d9eae",
   "metadata": {
    "editable": true,
    "slideshow": {
     "slide_type": "subslide"
    },
    "tags": []
   },
   "source": [
    "### Horizontal add"
   ]
  },
  {
   "cell_type": "markdown",
   "id": "257f8422-7930-4d4f-b545-aea5ca8c19da",
   "metadata": {
    "editable": true,
    "slideshow": {
     "slide_type": "fragment"
    },
    "tags": []
   },
   "source": [
    "Окей... А что если я хочу 2 `double` (4 `float`) сложить внутри одного регистра?"
   ]
  },
  {
   "cell_type": "markdown",
   "id": "ff8e13c1-3b07-46e1-8b2d-267e8755e3c8",
   "metadata": {
    "editable": true,
    "slideshow": {
     "slide_type": "fragment"
    },
    "tags": []
   },
   "source": [
    "Ну как минимум есть `hadd[p][s|d]` - aka `Horizontal ADD Packed` и дальше `float` / `double`.\n",
    "Вот так будет выглядеть `haddps xmm0, xmm1`"
   ]
  },
  {
   "cell_type": "markdown",
   "id": "9a4ac795-cb93-461c-9709-a7c549f33db1",
   "metadata": {
    "editable": true,
    "slideshow": {
     "slide_type": "subslide"
    },
    "tags": []
   },
   "source": [
    "<img alt=\"haddps\" width=\"512px\" src=\"data:image/png;base64,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\" />"
   ]
  },
  {
   "cell_type": "markdown",
   "id": "56db525f-55cf-4bde-99a3-041d8c76543d",
   "metadata": {
    "editable": true,
    "slideshow": {
     "slide_type": "fragment"
    },
    "tags": []
   },
   "source": [
    "Команду можно применять саму на себя - `haddps xmm0, xmm0` будет валидной командой."
   ]
  },
  {
   "cell_type": "markdown",
   "id": "509035de-5963-4b1e-86d3-02c1755f5453",
   "metadata": {
    "editable": true,
    "slideshow": {
     "slide_type": "slide"
    },
    "tags": []
   },
   "source": [
    "# ARM"
   ]
  },
  {
   "cell_type": "markdown",
   "id": "5b571ffa-c464-4d77-a6c1-66e31b9772ae",
   "metadata": {
    "editable": true,
    "slideshow": {
     "slide_type": "subslide"
    },
    "tags": []
   },
   "source": [
    "Тут так получилось, что ассемблеры примерно одинаковы"
   ]
  },
  {
   "cell_type": "markdown",
   "id": "254f3101-5e15-4c78-a024-c306c334aa6c",
   "metadata": {
    "editable": true,
    "slideshow": {
     "slide_type": "fragment"
    },
    "tags": []
   },
   "source": [
    "И на лекции правда рассказали всё, что нужно знать"
   ]
  },
  {
   "cell_type": "markdown",
   "id": "4610da13-2bb4-42a5-8a91-d85cb35ed0f9",
   "metadata": {
    "editable": true,
    "slideshow": {
     "slide_type": "fragment"
    },
    "tags": []
   },
   "source": [
    "Я расписал страничку с отличиями (на всякий)"
   ]
  },
  {
   "cell_type": "markdown",
   "id": "69a40008-9291-4750-8186-b2c53cd1174a",
   "metadata": {
    "editable": true,
    "slideshow": {
     "slide_type": "fragment"
    },
    "tags": []
   },
   "source": [
    "Поэтому сейчас разберем **ТОЛЬКО** как тестить **arm** на **x86_64**"
   ]
  },
  {
   "cell_type": "markdown",
   "id": "f1a85762-e5e5-4049-a0f5-9f23b11c122f",
   "metadata": {
    "editable": true,
    "slideshow": {
     "slide_type": "subslide"
    },
    "tags": []
   },
   "source": [
    "## Cross Compilation"
   ]
  },
  {
   "cell_type": "markdown",
   "id": "2c96b0b4-4f60-433d-a569-6dc99d8ee78e",
   "metadata": {
    "editable": true,
    "slideshow": {
     "slide_type": "subslide"
    },
    "tags": []
   },
   "source": [
    "## QEMU"
   ]
  },
  {
   "cell_type": "markdown",
   "id": "0e54992a-0869-4ff7-afb2-caf5f0d8eb02",
   "metadata": {
    "editable": true,
    "slideshow": {
     "slide_type": "subslide"
    },
    "tags": []
   },
   "source": [
    "Подробнее - на страничке в доках"
   ]
  },
  {
   "cell_type": "markdown",
   "id": "7cff74a6-5257-46c0-951d-a1786042ff87",
   "metadata": {
    "editable": true,
    "slideshow": {
     "slide_type": "slide"
    },
    "tags": []
   },
   "source": [
    "# Почему надо быть аккуратнее с scanf"
   ]
  },
  {
   "cell_type": "markdown",
   "id": "9c87180a-06b2-41bf-892b-ba1b2806a4a8",
   "metadata": {
    "editable": true,
    "slideshow": {
     "slide_type": "slide"
    },
    "tags": []
   },
   "source": [
    "# Grazie!"
   ]
  }
 ],
 "metadata": {
  "kernelspec": {
   "display_name": "Python 3 (ipykernel)",
   "language": "python",
   "name": "python3"
  },
  "language_info": {
   "codemirror_mode": {
    "name": "ipython",
    "version": 3
   },
   "file_extension": ".py",
   "mimetype": "text/x-python",
   "name": "python",
   "nbconvert_exporter": "python",
   "pygments_lexer": "ipython3",
   "version": "3.13.1"
  }
 },
 "nbformat": 4,
 "nbformat_minor": 5
}
